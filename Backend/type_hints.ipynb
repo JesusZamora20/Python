{
 "cells": [
  {
   "cell_type": "code",
   "execution_count": null,
   "metadata": {},
   "outputs": [],
   "source": [
    "# type hints\n",
    "\n",
    "var = \"string\"\n",
    "print(var)\n",
    "print(type(var))\n",
    "\n",
    "var = 1\n",
    "print(var)\n",
    "print(type(var))    "
   ]
  },
  {
   "cell_type": "code",
   "execution_count": 2,
   "metadata": {},
   "outputs": [
    {
     "name": "stdout",
     "output_type": "stream",
     "text": [
      "hola como estas\n",
      "<class 'str'>\n",
      "5\n",
      "<class 'int'>\n"
     ]
    }
   ],
   "source": [
    "my_typed_variable: str = \"hola como estas\"\n",
    "print(my_typed_variable)\n",
    "print(type(my_typed_variable))\n",
    "\n",
    "my_typed_variable = 5\n",
    "print(my_typed_variable)\n",
    "print(type(my_typed_variable))"
   ]
  }
 ],
 "metadata": {
  "kernelspec": {
   "display_name": "Python 3 (ipykernel)",
   "language": "python",
   "name": "python3"
  },
  "language_info": {
   "codemirror_mode": {
    "name": "ipython",
    "version": 3
   },
   "file_extension": ".py",
   "mimetype": "text/x-python",
   "name": "python",
   "nbconvert_exporter": "python",
   "pygments_lexer": "ipython3",
   "version": "3.12.4"
  }
 },
 "nbformat": 4,
 "nbformat_minor": 4
}
