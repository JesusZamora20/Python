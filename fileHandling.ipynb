{
 "cells": [
  {
   "cell_type": "code",
   "execution_count": 14,
   "id": "2395b3d1-f9ca-4c13-a586-fa07ee0f7b28",
   "metadata": {},
   "outputs": [
    {
     "name": "stdout",
     "output_type": "stream",
     "text": [
      "Hello my name is jesus \n",
      "i'm from colombia\n",
      "23 years old\n",
      "i like python\n",
      " Even though I like Kotlin\n",
      "\n",
      "\n",
      "[]\n"
     ]
    },
    {
     "data": {
      "text/plain": [
       "27"
      ]
     },
     "execution_count": 14,
     "metadata": {},
     "output_type": "execute_result"
    }
   ],
   "source": [
    "# ------------- file handling --------------- \n",
    "\n",
    "# .txt file\n",
    "import os\n",
    "\n",
    "txt_file= open(\"info.txt\", \"r+\")\n",
    "\n",
    "print(txt_file.read()) #read it all\n",
    "print(txt_file.read(10)) #read X ammount of digits\n",
    "print(txt_file.readline())\n",
    "print(txt_file.readlines()) #it creates an array of all the lines\n",
    "\n",
    "txt_file.write(\"\\n Even though I like Kotlin\")\n",
    "\n",
    "#os.remove(\"info.txt\")"
   ]
  },
  {
   "cell_type": "code",
   "execution_count": 9,
   "id": "28babc12-af6b-4fdd-b745-22400549d5ba",
   "metadata": {},
   "outputs": [
    {
     "name": "stdout",
     "output_type": "stream",
     "text": [
      "{\n",
      "\n",
      "    \"name\": \"jesus\",\n",
      "\n",
      "    \"last_name\": \"zamora\",\n",
      "\n",
      "    \"age\": 23,\n",
      "\n",
      "    \"language\": [\n",
      "\n",
      "        \"python\",\n",
      "\n",
      "        \"java\",\n",
      "\n",
      "        \"kotlin\"\n",
      "\n",
      "    ],\n",
      "\n",
      "    \"web\": \"https://python.org\"\n",
      "\n",
      "}\n"
     ]
    }
   ],
   "source": [
    "#---------------- JSON file ----------------\n",
    "import json\n",
    "\n",
    "json_file = open(\"my_file.json\", \"w+\")\n",
    "\n",
    "json_test = {\n",
    "    \"name\":\"jesus\",\n",
    "    \"last_name\":\"zamora\",\n",
    "    \"age\":23,\n",
    "    \"language\": [\"python\", \"java\", \"kotlin\"],\n",
    "    \"web\":\"https://python.org\"}\n",
    "\n",
    "\n",
    "json.dump(json_test, json_file, indent =4)\n",
    "    \n",
    "json_file.close()\n",
    "\n",
    "with open(\"my_file.json\") as other_json_file:\n",
    "    for line in other_json_file.readlines():\n",
    "        print(line)\n",
    "\n",
    "json_dict = json.load(open(\"my_file.json\"))"
   ]
  },
  {
   "cell_type": "code",
   "execution_count": null,
   "id": "bd99025c-3406-4131-9cee-d582cc078f0d",
   "metadata": {},
   "outputs": [],
   "source": []
  }
 ],
 "metadata": {
  "kernelspec": {
   "display_name": "Python 3",
   "language": "python",
   "name": "python3"
  },
  "language_info": {
   "codemirror_mode": {
    "name": "ipython",
    "version": 3
   },
   "file_extension": ".py",
   "mimetype": "text/x-python",
   "name": "python",
   "nbconvert_exporter": "python",
   "pygments_lexer": "ipython3",
   "version": "3.13.0"
  }
 },
 "nbformat": 4,
 "nbformat_minor": 5
}
