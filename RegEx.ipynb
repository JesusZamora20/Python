{
 "cells": [
  {
   "cell_type": "code",
   "execution_count": 19,
   "id": "6530ac09-a16a-4e0a-89e6-2431b1404acb",
   "metadata": {},
   "outputs": [
    {
     "name": "stdout",
     "output_type": "stream",
     "text": [
      "<re.Match object; span=(0, 8), match='Lesson 7'>\n",
      "Lesson 7\n",
      "None\n",
      "<re.Match object; span=(0, 8), match='Lesson 7'>\n",
      "None\n"
     ]
    }
   ],
   "source": [
    "import re\n",
    "\n",
    "string = \"Lesson 7: Regular Expressions\"\n",
    "string2 = \"Lesson 6: File handling\"\n",
    "\n",
    "match = re.match(\"Lesson 7\", string, re.I)\n",
    "print(match)\n",
    "\n",
    "start, end = match.span()\n",
    "print(string[start:end])\n",
    "\n",
    "\n",
    "match = re.match(\"Lesson 7\", string2)\n",
    "if match != None:\n",
    "    print(match)\n",
    "    start, end = match.span()\n",
    "    print(string2[start:end])\n",
    "\n",
    "print(re.match(\"Lesson 7\", string))\n",
    "print(re.match(\"Regular Expressions\", string))\n"
   ]
  },
  {
   "cell_type": "code",
   "execution_count": null,
   "id": "401f2c71-285d-4615-aba1-3a707ea0cab6",
   "metadata": {},
   "outputs": [],
   "source": []
  }
 ],
 "metadata": {
  "kernelspec": {
   "display_name": "Python 3 (ipykernel)",
   "language": "python",
   "name": "python3"
  },
  "language_info": {
   "codemirror_mode": {
    "name": "ipython",
    "version": 3
   },
   "file_extension": ".py",
   "mimetype": "text/x-python",
   "name": "python",
   "nbconvert_exporter": "python",
   "pygments_lexer": "ipython3",
   "version": "3.12.4"
  }
 },
 "nbformat": 4,
 "nbformat_minor": 5
}
