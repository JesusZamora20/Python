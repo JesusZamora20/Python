{
 "cells": [
  {
   "cell_type": "code",
   "execution_count": 19,
   "id": "6530ac09-a16a-4e0a-89e6-2431b1404acb",
   "metadata": {},
   "outputs": [
    {
     "name": "stdout",
     "output_type": "stream",
     "text": [
      "<re.Match object; span=(0, 8), match='Lesson 7'>\n",
      "Lesson 7\n",
      "None\n",
      "<re.Match object; span=(0, 8), match='Lesson 7'>\n",
      "None\n"
     ]
    }
   ],
   "source": [
    "import re\n",
    "\n",
    "string = \"Lesson 7: Regular Expressions\"\n",
    "string2 = \"Lesson 6: File handling\"\n",
    "\n",
    "match = re.match(\"Lesson 7\", string, re.I)\n",
    "print(match)\n",
    "\n",
    "start, end = match.span()\n",
    "print(string[start:end])\n",
    "\n",
    "\n",
    "match = re.match(\"Lesson 7\", string2)\n",
    "if match != None:\n",
    "    print(match)\n",
    "    start, end = match.span()\n",
    "    print(string2[start:end])\n",
    "\n",
    "print(re.match(\"Lesson 7\", string))\n",
    "print(re.match(\"Regular Expressions\", string))\n"
   ]
  },
  {
   "cell_type": "code",
   "execution_count": 23,
   "id": "401f2c71-285d-4615-aba1-3a707ea0cab6",
   "metadata": {},
   "outputs": [
    {
     "name": "stdout",
     "output_type": "stream",
     "text": [
      "<re.Match object; span=(0, 8), match='Lesson 7'>\n",
      "Lesson 7\n"
     ]
    }
   ],
   "source": [
    "#search\n",
    "\n",
    "import re\n",
    "\n",
    "string = \"Lesson 7: Regular Expressions\"\n",
    "string2 = \"Lesson 6: File handling\"\n",
    "\n",
    "search = re.search(\"Lesson 7\", string, re.I)\n",
    "print(search)\n",
    "start, end = search.span()\n",
    "print(string[start:end])\n",
    "\n"
   ]
  },
  {
   "cell_type": "code",
   "execution_count": 29,
   "id": "daaeb1d7-8704-43fe-b36f-ba8f6d7e3f16",
   "metadata": {},
   "outputs": [
    {
     "name": "stdout",
     "output_type": "stream",
     "text": [
      "['Lesson', 'lesson']\n"
     ]
    }
   ],
   "source": [
    "#find all\n",
    "\n",
    "import re\n",
    "\n",
    "string = \"Lesson 7: lesson name -> Regular Expressions\"\n",
    "string2 = \"Lesson 6: File handling\"\n",
    "\n",
    "findall = re.findall(\"Lesson\", string, re.I)\n",
    "print(findall)"
   ]
  },
  {
   "cell_type": "code",
   "execution_count": 35,
   "id": "7772fa2b-fb79-4814-ab45-ee5594e9811a",
   "metadata": {},
   "outputs": [
    {
     "name": "stdout",
     "output_type": "stream",
     "text": [
      "['Lesson 7: lesson name ', ' Regular Expressions']\n"
     ]
    }
   ],
   "source": [
    "#split\n",
    "\n",
    "import re\n",
    "\n",
    "string = \"Lesson 7: lesson name -> Regular Expressions\"\n",
    "\n",
    "split = re.split(\"->\", string)\n",
    "print(split)"
   ]
  },
  {
   "cell_type": "code",
   "execution_count": 43,
   "id": "c46696c6-4cfe-44c4-b954-8439c1982ba0",
   "metadata": {},
   "outputs": [
    {
     "name": "stdout",
     "output_type": "stream",
     "text": [
      "Lesson 7: lesson name -> RegEx\n",
      "lesson 7: lesson name -> Regular Expressions\n"
     ]
    }
   ],
   "source": [
    "# sub\n",
    "\n",
    "import re\n",
    "\n",
    "string = \"Lesson 7: lesson name -> Regular Expressions\"\n",
    "sub = re.sub(\"Regular Expressions\", \"RegEx\", string)\n",
    "sub2 = re.sub(\"Lesson|lesson\", \"lesson\", string)\n",
    "\n",
    "print(sub)\n",
    "print(sub2)\n"
   ]
  },
  {
   "cell_type": "code",
   "execution_count": null,
   "id": "60e50707-4cfa-42c5-baf1-6cd2e3ff773b",
   "metadata": {},
   "outputs": [],
   "source": []
  }
 ],
 "metadata": {
  "kernelspec": {
   "display_name": "Python 3 (ipykernel)",
   "language": "python",
   "name": "python3"
  },
  "language_info": {
   "codemirror_mode": {
    "name": "ipython",
    "version": 3
   },
   "file_extension": ".py",
   "mimetype": "text/x-python",
   "name": "python",
   "nbconvert_exporter": "python",
   "pygments_lexer": "ipython3",
   "version": "3.12.4"
  }
 },
 "nbformat": 4,
 "nbformat_minor": 5
}
