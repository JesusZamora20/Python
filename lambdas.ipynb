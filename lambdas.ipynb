{
 "cells": [
  {
   "cell_type": "code",
   "execution_count": 3,
   "id": "ddcde76d-ff68-40d7-b13d-26bb00c7543e",
   "metadata": {},
   "outputs": [
    {
     "name": "stdout",
     "output_type": "stream",
     "text": [
      "6\n",
      "5\n",
      "11\n"
     ]
    }
   ],
   "source": [
    "#create a lambda\n",
    "\n",
    "sum2values = lambda first_value, second_value: first_value + second_value\n",
    "print(sum2values(2,4))\n",
    "\n",
    "multiply_values = lambda first_value, second_value: first_value * second_value - 3\n",
    "print(multiply_values(2,4))\n",
    "\n",
    "def sum3values(value):\n",
    "    return lambda first_value, second_value: first_value + second_value + value\n",
    "\n",
    "print(sum3values(5)(2,4))"
   ]
  }
 ],
 "metadata": {
  "kernelspec": {
   "display_name": "Python 3 (ipykernel)",
   "language": "python",
   "name": "python3"
  },
  "language_info": {
   "codemirror_mode": {
    "name": "ipython",
    "version": 3
   },
   "file_extension": ".py",
   "mimetype": "text/x-python",
   "name": "python",
   "nbconvert_exporter": "python",
   "pygments_lexer": "ipython3",
   "version": "3.12.4"
  }
 },
 "nbformat": 4,
 "nbformat_minor": 5
}
