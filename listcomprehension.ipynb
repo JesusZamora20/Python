{
 "cells": [
  {
   "cell_type": "markdown",
   "id": "184eb04d-6c74-473f-ae4a-fdc353ee425b",
   "metadata": {},
   "source": [
    "# List Comprehension"
   ]
  },
  {
   "cell_type": "code",
   "execution_count": null,
   "id": "9a8632f0-d612-40d0-8bd6-400dff46395a",
   "metadata": {},
   "outputs": [],
   "source": [
    "#list comprehension\n",
    "\n",
    "list1 = [0,1,2,3,4,5,6,7]\n",
    "listC = [i for i in range(7)]\n",
    "print(listC)\n",
    "\n",
    "listC = [i + 1 for i in range(7)]\n",
    "print(listC)\n",
    "\n",
    "listC = [i * 2 for i in range(7)]\n",
    "print(listC)\n",
    "\n",
    "def sumfive(number):\n",
    "  return number + 5\n",
    "\n",
    "listC = [sumfive(i) for i in range(7)]\n",
    "print(listC)"
   ]
  }
 ],
 "metadata": {
  "kernelspec": {
   "display_name": "Python 3 (ipykernel)",
   "language": "python",
   "name": "python3"
  },
  "language_info": {
   "codemirror_mode": {
    "name": "ipython",
    "version": 3
   },
   "file_extension": ".py",
   "mimetype": "text/x-python",
   "name": "python",
   "nbconvert_exporter": "python",
   "pygments_lexer": "ipython3",
   "version": "3.12.4"
  }
 },
 "nbformat": 4,
 "nbformat_minor": 5
}
