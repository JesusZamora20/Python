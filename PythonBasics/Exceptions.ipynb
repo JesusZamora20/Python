{
 "cells": [
  {
   "cell_type": "code",
   "execution_count": 1,
   "metadata": {},
   "outputs": [
    {
     "name": "stdout",
     "output_type": "stream",
     "text": [
      "An error occurred\n"
     ]
    }
   ],
   "source": [
    "#---------- Exceptions ----------\n",
    "\n",
    "number1  = 1\n",
    "number2 = \"5\"\n",
    "\n",
    "try:\n",
    "    print(number1 + number2)\n",
    "    print(\"error not occurred\")\n",
    "except:\n",
    "    print(\"An error occurred\")\n",
    "\n"
   ]
  },
  {
   "cell_type": "code",
   "execution_count": 3,
   "metadata": {},
   "outputs": [
    {
     "name": "stdout",
     "output_type": "stream",
     "text": [
      "6\n",
      "error not occurred\n",
      "The code still running\n"
     ]
    }
   ],
   "source": [
    "#try except else\n",
    "\n",
    "number1  = 1\n",
    "number2 = 5\n",
    "\n",
    "try:\n",
    "    print(number1 + number2)\n",
    "    print(\"error not occurred\")\n",
    "except:\n",
    "    print(\"An error occurred\")\n",
    "else:\n",
    "    print(\"The code continues\")\n"
   ]
  },
  {
   "cell_type": "code",
   "execution_count": 4,
   "metadata": {},
   "outputs": [
    {
     "name": "stdout",
     "output_type": "stream",
     "text": [
      "An error occurred\n",
      "The code continues\n"
     ]
    }
   ],
   "source": [
    "#try except else finally\n",
    "\n",
    "number1  = 1\n",
    "number2 = \"5\"\n",
    "\n",
    "try:\n",
    "    print(number1 + number2)\n",
    "    print(\"error not occurred\")\n",
    "except:\n",
    "    print(\"An error occurred\")\n",
    "else:\n",
    "    print(\"The code continues correctly\")\n",
    "finally:\n",
    "    print(\"The code continues\")"
   ]
  },
  {
   "cell_type": "code",
   "execution_count": null,
   "metadata": {},
   "outputs": [],
   "source": [
    "# Exceptions by type\n",
    "\n",
    "number1  = 1\n",
    "number2 = \"5\"\n",
    "\n",
    "try:\n",
    "    print(number1 + number2)\n",
    "    print(\"error not occurred\")\n",
    "except TypeError:\n",
    "    print(\"An error of TypeError occurred\")"
   ]
  },
  {
   "cell_type": "code",
   "execution_count": 5,
   "metadata": {},
   "outputs": [
    {
     "name": "stdout",
     "output_type": "stream",
     "text": [
      "unsupported operand type(s) for +: 'int' and 'str'\n"
     ]
    }
   ],
   "source": [
    "# Exceptions by information\n",
    "\n",
    "number1  = 1\n",
    "number2 = \"5\"\n",
    "\n",
    "try:\n",
    "    print(number1 + number2)\n",
    "    print(\"error not occurred\")\n",
    "except TypeError as e:\n",
    "    print(e)\n",
    "except Exception as error:\n",
    "    print(error)"
   ]
  }
 ],
 "metadata": {
  "kernelspec": {
   "display_name": "Python 3",
   "language": "python",
   "name": "python3"
  },
  "language_info": {
   "codemirror_mode": {
    "name": "ipython",
    "version": 3
   },
   "file_extension": ".py",
   "mimetype": "text/x-python",
   "name": "python",
   "nbconvert_exporter": "python",
   "pygments_lexer": "ipython3",
   "version": "3.13.0"
  }
 },
 "nbformat": 4,
 "nbformat_minor": 2
}
