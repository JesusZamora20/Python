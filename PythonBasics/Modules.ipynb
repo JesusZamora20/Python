{
 "cells": [
  {
   "cell_type": "code",
   "execution_count": null,
   "id": "ceb3023a-11ed-4ea3-8b69-940998e6da87",
   "metadata": {},
   "outputs": [],
   "source": [
    "import file_name\n",
    "from file_name import function_name, function_name2\n",
    "from file_name import function_name, function_name2 as alias\n",
    "\n",
    "\n",
    "#to access the module\n",
    "module_name.function_name()\n",
    "function_name()"
   ]
  }
 ],
 "metadata": {
  "kernelspec": {
   "display_name": "Python 3 (ipykernel)",
   "language": "python",
   "name": "python3"
  },
  "language_info": {
   "codemirror_mode": {
    "name": "ipython",
    "version": 3
   },
   "file_extension": ".py",
   "mimetype": "text/x-python",
   "name": "python",
   "nbconvert_exporter": "python",
   "pygments_lexer": "ipython3",
   "version": "3.12.4"
  }
 },
 "nbformat": 4,
 "nbformat_minor": 5
}
