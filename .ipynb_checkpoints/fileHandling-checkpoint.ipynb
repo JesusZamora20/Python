{
 "cells": [
  {
   "cell_type": "code",
   "execution_count": 14,
   "id": "2395b3d1-f9ca-4c13-a586-fa07ee0f7b28",
   "metadata": {},
   "outputs": [
    {
     "name": "stdout",
     "output_type": "stream",
     "text": [
      "Hello my name is jesus \n",
      "i'm from colombia\n",
      "23 years old\n",
      "i like python\n",
      " Even though I like Kotlin\n",
      " Even though I like Kotlin\n",
      "\n",
      "\n",
      "[]\n"
     ]
    },
    {
     "data": {
      "text/plain": [
       "27"
      ]
     },
     "execution_count": 14,
     "metadata": {},
     "output_type": "execute_result"
    }
   ],
   "source": [
    "# ------------- file handling --------------- \n",
    "\n",
    "# .txt file\n",
    "import os\n",
    "\n",
    "txt_file= open(\"info.txt\", \"r+\")\n",
    "\n",
    "print(txt_file.read()) #read it all\n",
    "print(txt_file.read(10)) #read X ammount of digits\n",
    "print(txt_file.readline())\n",
    "print(txt_file.readlines()) #it creates an array of all the lines\n",
    "\n",
    "txt_file.write(\"\\n Even though I like Kotlin\")\n",
    "\n",
    "#os.remove(\"info.txt\")"
   ]
  },
  {
   "cell_type": "code",
   "execution_count": 15,
   "id": "28babc12-af6b-4fdd-b745-22400549d5ba",
   "metadata": {},
   "outputs": [
    {
     "name": "stdout",
     "output_type": "stream",
     "text": [
      "{\n",
      "\n",
      "    \"name\": \"jesus\",\n",
      "\n",
      "    \"last_name\": \"zamora\",\n",
      "\n",
      "    \"age\": 23,\n",
      "\n",
      "    \"language\": [\n",
      "\n",
      "        \"python\",\n",
      "\n",
      "        \"java\",\n",
      "\n",
      "        \"kotlin\"\n",
      "\n",
      "    ],\n",
      "\n",
      "    \"web\": \"https://python.org\"\n",
      "\n",
      "}\n",
      "{'name': 'jesus', 'last_name': 'zamora', 'age': 23, 'language': ['python', 'java', 'kotlin'], 'web': 'https://python.org'}\n",
      "<class 'dict'>\n",
      "jesus\n"
     ]
    }
   ],
   "source": [
    "#---------------- JSON file ----------------\n",
    "import json\n",
    "\n",
    "json_file = open(\"my_file.json\", \"w+\")\n",
    "\n",
    "json_test = {\n",
    "    \"name\":\"jesus\",\n",
    "    \"last_name\":\"zamora\",\n",
    "    \"age\":23,\n",
    "    \"language\": [\"python\", \"java\", \"kotlin\"],\n",
    "    \"web\":\"https://python.org\"}\n",
    "\n",
    "\n",
    "json.dump(json_test, json_file, indent =4)\n",
    "    \n",
    "json_file.close()\n",
    "\n",
    "with open(\"my_file.json\") as other_json_file:\n",
    "    for line in other_json_file.readlines():\n",
    "        print(line)\n",
    "\n",
    "json_dict = json.load(open(\"my_file.json\"))\n",
    "print(json_dict)\n",
    "print(type(json_dict))\n",
    "print(json_dict[\"name\"])"
   ]
  },
  {
   "cell_type": "code",
   "execution_count": 23,
   "id": "bd99025c-3406-4131-9cee-d582cc078f0d",
   "metadata": {},
   "outputs": [
    {
     "name": "stdout",
     "output_type": "stream",
     "text": [
      "name,last_name,age\n",
      "\n",
      "\n",
      "\n",
      "jesus,zamora,23\n",
      "\n",
      "\n",
      "\n"
     ]
    }
   ],
   "source": [
    "#----------------- CSV file ----------------\n",
    "import csv\n",
    "\n",
    "csv_file = open(\"my_file.csv\", \"w+\")\n",
    "\n",
    "csv_writer = csv.writer(csv_file)\n",
    "csv_writer.writerow([\"name\", \"last_name\", \"age\"])\n",
    "csv_writer.writerow([\"jesus\", \"zamora\", 23])\n",
    "\n",
    "with open(\"my_file.csv\") as other_csv_file:\n",
    "    for line in other_csv_file.readlines():\n",
    "        print(line)\n"
   ]
  },
  {
   "cell_type": "code",
   "execution_count": 18,
   "id": "d422bf75",
   "metadata": {},
   "outputs": [],
   "source": [
    "#----------------- XLSX file ----------------\n",
    "import xlrd"
   ]
  },
  {
   "cell_type": "code",
   "execution_count": 17,
   "id": "da9aada8",
   "metadata": {},
   "outputs": [],
   "source": [
    "#----------------- XML file ----------------\n",
    "import xml"
   ]
  }
 ],
 "metadata": {
  "kernelspec": {
   "display_name": "Python 3 (ipykernel)",
   "language": "python",
   "name": "python3"
  },
  "language_info": {
   "codemirror_mode": {
    "name": "ipython",
    "version": 3
   },
   "file_extension": ".py",
   "mimetype": "text/x-python",
   "name": "python",
   "nbconvert_exporter": "python",
   "pygments_lexer": "ipython3",
   "version": "3.12.4"
  }
 },
 "nbformat": 4,
 "nbformat_minor": 5
}
