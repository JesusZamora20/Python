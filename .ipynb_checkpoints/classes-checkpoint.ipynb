{
 "cells": [
  {
   "cell_type": "code",
   "execution_count": 6,
   "id": "5c93b415-3312-478f-97ca-ec57cdd3e678",
   "metadata": {},
   "outputs": [
    {
     "name": "stdout",
     "output_type": "stream",
     "text": [
      "jesus bermudez\n"
     ]
    }
   ],
   "source": [
    "class Person:\n",
    "    def __init__(self, name, surname): #Constructor de clase\n",
    "        self.name = name\n",
    "        self.surname = surname\n",
    "        \n",
    "my_person = Person('jesus', 'bermudez')\n",
    "print(my_person.name, my_person.surname)"
   ]
  },
  {
   "cell_type": "code",
   "execution_count": 3,
   "id": "fd1d81de-ce09-4128-8840-b4c95468450e",
   "metadata": {},
   "outputs": [
    {
     "name": "stdout",
     "output_type": "stream",
     "text": [
      "jesus bermudez\n",
      "jesus bermudez is walking\n"
     ]
    }
   ],
   "source": [
    "class Person:\n",
    "    def __init__(self, name, surname): #Constructor de clase\n",
    "        self.fullname = f\"{name} {surname}\"\n",
    "        \n",
    "    def walk (self):\n",
    "        print(f\"{self.fullname} is walking\")\n",
    "        \n",
    "my_person = Person('jesus', 'bermudez')\n",
    "print(my_person.fullname)\n",
    "my_person.walk()"
   ]
  },
  {
   "cell_type": "code",
   "execution_count": null,
   "id": "79b5c2ff-563a-41af-9aa3-b0c1e56272b6",
   "metadata": {},
   "outputs": [],
   "source": []
  }
 ],
 "metadata": {
  "kernelspec": {
   "display_name": "Python 3 (ipykernel)",
   "language": "python",
   "name": "python3"
  },
  "language_info": {
   "codemirror_mode": {
    "name": "ipython",
    "version": 3
   },
   "file_extension": ".py",
   "mimetype": "text/x-python",
   "name": "python",
   "nbconvert_exporter": "python",
   "pygments_lexer": "ipython3",
   "version": "3.12.4"
  }
 },
 "nbformat": 4,
 "nbformat_minor": 5
}
