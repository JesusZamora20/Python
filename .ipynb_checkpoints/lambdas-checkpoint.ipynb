{
 "cells": [
  {
   "cell_type": "code",
   "execution_count": null,
   "id": "ddcde76d-ff68-40d7-b13d-26bb00c7543e",
   "metadata": {},
   "outputs": [],
   "source": [
    "#create a lambda\n",
    "\n",
    "sum2values = lambda first_value, second_value: first_value + second_value\n",
    "print(sum2values(2,4))\n",
    "\n",
    "multiply_values = lambda first_value, second_value: first_value * second_value - 3\n",
    "print(multiply_values(2,4))"
   ]
  }
 ],
 "metadata": {
  "kernelspec": {
   "display_name": "Python 3 (ipykernel)",
   "language": "python",
   "name": "python3"
  },
  "language_info": {
   "codemirror_mode": {
    "name": "ipython",
    "version": 3
   },
   "file_extension": ".py",
   "mimetype": "text/x-python",
   "name": "python",
   "nbconvert_exporter": "python",
   "pygments_lexer": "ipython3",
   "version": "3.12.4"
  }
 },
 "nbformat": 4,
 "nbformat_minor": 5
}
