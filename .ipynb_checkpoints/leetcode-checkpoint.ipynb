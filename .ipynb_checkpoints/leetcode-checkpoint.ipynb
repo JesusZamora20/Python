{
 "cells": [
  {
   "cell_type": "code",
   "execution_count": 18,
   "id": "bbeb8cf9-edfd-417a-89fb-d73f65f87214",
   "metadata": {},
   "outputs": [
    {
     "name": "stdout",
     "output_type": "stream",
     "text": [
      "a\n",
      "b\n",
      "c\n"
     ]
    },
    {
     "ename": "TypeError",
     "evalue": "unsupported operand type(s) for -: 'str' and 'str'",
     "output_type": "error",
     "traceback": [
      "\u001b[1;31m---------------------------------------------------------------------------\u001b[0m",
      "\u001b[1;31mTypeError\u001b[0m                                 Traceback (most recent call last)",
      "Cell \u001b[1;32mIn[18], line 14\u001b[0m\n\u001b[0;32m     11\u001b[0m maximum \u001b[38;5;241m=\u001b[39m current\n\u001b[0;32m     13\u001b[0m \u001b[38;5;28;01mfor\u001b[39;00m i \u001b[38;5;129;01min\u001b[39;00m \u001b[38;5;28mrange\u001b[39m(k, \u001b[38;5;28mlen\u001b[39m(s)):\n\u001b[1;32m---> 14\u001b[0m     current \u001b[38;5;241m+\u001b[39m\u001b[38;5;241m=\u001b[39m s[i] \u001b[38;5;241m-\u001b[39m s[i\u001b[38;5;241m-\u001b[39mk]\n\u001b[0;32m     15\u001b[0m     maximum \u001b[38;5;241m=\u001b[39m \u001b[38;5;28mmax\u001b[39m(maximum, current)\n\u001b[0;32m     17\u001b[0m \u001b[38;5;28mprint\u001b[39m(maximum)\n",
      "\u001b[1;31mTypeError\u001b[0m: unsupported operand type(s) for -: 'str' and 'str'"
     ]
    }
   ],
   "source": [
    "vowels = [\"a\", \"e\",\"i\",\"o\",\"u\"]\n",
    "maximum = 0\n",
    "current = 0 \n",
    "k = 3\n",
    "s = \"abciiidef\"\n",
    "\n",
    "for i in range(k):\n",
    "    print(s[i])\n",
    "    if s[i] in vowels:\n",
    "        current += 1\n",
    "maximum = current\n",
    "\n",
    "for i in range(k, len(s)):\n",
    "    current += s[i] - s[i-k]\n",
    "    maximum = max(maximum, current)\n",
    "        \n",
    "print(maximum)\n",
    "\n"
   ]
  },
  {
   "cell_type": "code",
   "execution_count": null,
   "id": "da286f06-4202-41bb-88d8-9579d6bf6775",
   "metadata": {},
   "outputs": [],
   "source": []
  }
 ],
 "metadata": {
  "kernelspec": {
   "display_name": "Python 3 (ipykernel)",
   "language": "python",
   "name": "python3"
  },
  "language_info": {
   "codemirror_mode": {
    "name": "ipython",
    "version": 3
   },
   "file_extension": ".py",
   "mimetype": "text/x-python",
   "name": "python",
   "nbconvert_exporter": "python",
   "pygments_lexer": "ipython3",
   "version": "3.12.4"
  }
 },
 "nbformat": 4,
 "nbformat_minor": 5
}
