{
 "cells": [
  {
   "cell_type": "markdown",
   "id": "356186c2-2471-415c-ae66-0e449dfb59be",
   "metadata": {
    "panel-layout": {
     "height": 60.59375,
     "visible": true,
     "width": 100
    }
   },
   "source": [
    "# Funciones de orden superior "
   ]
  },
  {
   "cell_type": "code",
   "execution_count": 5,
   "id": "ada30f28-ddf7-4813-b23c-2bcafb2a5829",
   "metadata": {},
   "outputs": [
    {
     "name": "stdout",
     "output_type": "stream",
     "text": [
      "8\n"
     ]
    }
   ],
   "source": [
    "def sumOne(value):\n",
    "    return value + 1\n",
    "    \n",
    "def sum2valuesAndOne( value1, value2):\n",
    "    return sumOne(value1 + value2)\n",
    "\n",
    "print(sum2valuesAndOne(5,2))\n",
    "\n",
    "#minuto 2:55"
   ]
  }
 ],
 "metadata": {
  "kernelspec": {
   "display_name": "Python 3 (ipykernel)",
   "language": "python",
   "name": "python3"
  },
  "language_info": {
   "codemirror_mode": {
    "name": "ipython",
    "version": 3
   },
   "file_extension": ".py",
   "mimetype": "text/x-python",
   "name": "python",
   "nbconvert_exporter": "python",
   "pygments_lexer": "ipython3",
   "version": "3.12.4"
  },
  "panel-cell-order": [
   "356186c2-2471-415c-ae66-0e449dfb59be"
  ]
 },
 "nbformat": 4,
 "nbformat_minor": 5
}
