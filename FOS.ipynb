{
 "cells": [
  {
   "cell_type": "markdown",
   "id": "356186c2-2471-415c-ae66-0e449dfb59be",
   "metadata": {
    "panel-layout": {
     "height": 60.59375,
     "visible": true,
     "width": 100
    }
   },
   "source": [
    "# Funciones de orden superior "
   ]
  },
  {
   "cell_type": "code",
   "execution_count": 6,
   "id": "ada30f28-ddf7-4813-b23c-2bcafb2a5829",
   "metadata": {},
   "outputs": [
    {
     "name": "stdout",
     "output_type": "stream",
     "text": [
      "8\n",
      "12\n"
     ]
    }
   ],
   "source": [
    "def sumOne(value):\n",
    "    return value + 1\n",
    "\n",
    "def sumfive(value):\n",
    "    return value + 5\n",
    "    \n",
    "def sum2valuesAndAdd( value1, value2,func):\n",
    "    return func(value1 + value2)\n",
    "\n",
    "print(sum2valuesAndAdd(5,2,sumOne))\n",
    "print(sum2valuesAndAdd(5,2,sumfive))\n",
    "\n"
   ]
  },
  {
   "cell_type": "code",
   "execution_count": 10,
   "id": "7097f164-2b34-4c93-a948-d2ae27f38930",
   "metadata": {},
   "outputs": [
    {
     "name": "stdout",
     "output_type": "stream",
     "text": [
      "15\n"
     ]
    }
   ],
   "source": [
    "#closures\n",
    "\n",
    "def sum_ten():\n",
    "    def add(value):\n",
    "        return value + 10\n",
    "    return add\n",
    "\n",
    "add_closure = sum_ten()\n",
    "print(add_closure(5))"
   ]
  },
  {
   "cell_type": "code",
   "execution_count": 15,
   "id": "337e9a18-5ed2-42b0-a9d4-0c7d650d892d",
   "metadata": {},
   "outputs": [
    {
     "name": "stdout",
     "output_type": "stream",
     "text": [
      "[4, 10, 20, 42]\n",
      "[4, 10, 20, 42]\n"
     ]
    }
   ],
   "source": [
    "#built-in higher order functions\n",
    "\n",
    "numbers = [2,5,10,21]\n",
    "#map\n",
    "def multiplybytwo(num):\n",
    "    return num * 2\n",
    "    \n",
    "print(list(map(multiplybytwo, numbers)))\n",
    "print(list(map(lambda number: number * 2, numbers)))"
   ]
  },
  {
   "cell_type": "code",
   "execution_count": 23,
   "id": "3b3e7942-a4ab-4d9d-9846-cc193470cd61",
   "metadata": {},
   "outputs": [
    {
     "name": "stdout",
     "output_type": "stream",
     "text": [
      "[21, 30, 11]\n",
      "[21, 30, 11]\n"
     ]
    }
   ],
   "source": [
    "#built-in higher order functions\n",
    "numbers = [2,5,10,21,10,30,11]\n",
    "\n",
    "#filter\n",
    "def filter_greater_ten(number):\n",
    "    if number > 10:\n",
    "        return True\n",
    "    return False\n",
    "\n",
    "print(list(filter(filter_greater_ten, numbers)))\n",
    "print(list(filter(lambda number: number > 10, numbers)))\n"
   ]
  },
  {
   "cell_type": "code",
   "execution_count": 25,
   "id": "f55665e3-0096-4bf2-b4b3-51f454c597f2",
   "metadata": {},
   "outputs": [
    {
     "name": "stdout",
     "output_type": "stream",
     "text": [
      "89\n"
     ]
    }
   ],
   "source": [
    "#built-in higher order functions\n",
    "\n",
    "from functools import reduce\n",
    "\n",
    "numbers = [2,5,10,21,10,30,11]\n",
    "\n",
    "#reduce\n",
    "def sum2values(value1, value2):\n",
    "    return value1 + value2\n",
    "\n",
    "print(reduce(sum2values, numbers))"
   ]
  },
  {
   "cell_type": "code",
   "execution_count": null,
   "id": "f2fb7536-5110-41ee-aae8-118237d24dca",
   "metadata": {},
   "outputs": [],
   "source": []
  }
 ],
 "metadata": {
  "kernelspec": {
   "display_name": "Python 3 (ipykernel)",
   "language": "python",
   "name": "python3"
  },
  "language_info": {
   "codemirror_mode": {
    "name": "ipython",
    "version": 3
   },
   "file_extension": ".py",
   "mimetype": "text/x-python",
   "name": "python",
   "nbconvert_exporter": "python",
   "pygments_lexer": "ipython3",
   "version": "3.12.4"
  },
  "panel-cell-order": [
   "356186c2-2471-415c-ae66-0e449dfb59be"
  ]
 },
 "nbformat": 4,
 "nbformat_minor": 5
}
